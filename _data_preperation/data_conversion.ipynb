{
 "cells": [
  {
   "cell_type": "code",
   "execution_count": null,
   "metadata": {},
   "outputs": [],
   "source": [
    "import pandas as pd\n",
    "import numpy as np"
   ]
  },
  {
   "cell_type": "markdown",
   "metadata": {},
   "source": [
    "Loading the raw contribution tree into Python"
   ]
  },
  {
   "cell_type": "code",
   "execution_count": null,
   "metadata": {},
   "outputs": [],
   "source": [
    "loading_url = 'UseCase_Data/Apple_UseCase/rawExcel/TableApple1kg_ClimateChange.xlsx'\n",
    "raw = pd.read_excel(loading_url)"
   ]
  },
  {
   "cell_type": "markdown",
   "metadata": {},
   "source": [
    "Specifying an index, thereby creating a unique identifier with key semantics"
   ]
  },
  {
   "cell_type": "code",
   "execution_count": null,
   "metadata": {},
   "outputs": [],
   "source": [
    "r_columns = raw.columns.to_list()\n",
    "h_depth = r_columns.index('Process') #by looking where the process column is situated we can determine how deep the contribution tree is\n",
    "raw['id'] = raw.index\n"
   ]
  },
  {
   "cell_type": "markdown",
   "metadata": {},
   "source": [
    "Converting the indivual hierarchy level columns into a single attribute denoting the location of a process within the hierarchy"
   ]
  },
  {
   "cell_type": "code",
   "execution_count": null,
   "metadata": {},
   "outputs": [],
   "source": [
    "hierarchy_levels = []\n",
    "for row in range(len(raw)):\n",
    "    for col in r_columns[:h_depth]:\n",
    "        if not np.isnan(raw[col].iloc[row]):\n",
    "            hierarchy_levels.append(r_columns.index(col))\n"
   ]
  },
  {
   "cell_type": "code",
   "execution_count": null,
   "metadata": {},
   "outputs": [],
   "source": [
    "raw['hierarchy_level'] = hierarchy_levels\n",
    "raw.drop(columns=r_columns[:h_depth], inplace = True) #dropping the old hierarchy level columns"
   ]
  },
  {
   "cell_type": "markdown",
   "metadata": {},
   "source": [
    "Encoding the explicit child-parent relationships to create an adjancy list structure that stores the hierarchical information"
   ]
  },
  {
   "cell_type": "code",
   "execution_count": null,
   "metadata": {},
   "outputs": [],
   "source": [
    "parents = []\n",
    "for row in range(len(raw)):\n",
    "    u_family = ['']\n",
    "    for i in range(len(raw.iloc[:row+1])):\n",
    "        if raw['hierarchy_level'].iloc[row] > raw['hierarchy_level'].iloc[i]:\n",
    "            u_family.append(raw['id'].iloc[i])\n",
    "    parents.append(u_family[-1])\n",
    "raw['parent_id'] = parents\n",
    "    "
   ]
  },
  {
   "cell_type": "markdown",
   "metadata": {},
   "source": [
    "Adding dummy children processes to acount for parent processes which impact cannot be fully attributed to the children of that parent"
   ]
  },
  {
   "cell_type": "code",
   "execution_count": null,
   "metadata": {},
   "outputs": [],
   "source": [
    "for i in range(len(raw)): #accounting for the fact that the openLCA contribution tree does not show the impact of output flows as processes\n",
    "    if len(raw[raw.parent_id == raw.iloc[i].id]) > 0:\n",
    "        raw = raw.append({\n",
    "            \"Process\": raw.iloc[i].Process,\n",
    "            'Amount': raw.iloc[i].Amount - sum(raw[raw['parent_id'] == raw.iloc[i].id].Amount),\n",
    "            'Unit': raw.iloc[i].Unit,\n",
    "            'id': 'temp',\n",
    "            'hierarchy_level': raw.iloc[i].hierarchy_level + 1,\n",
    "            'parent_id': raw.iloc[i].id\n",
    "        }, ignore_index=True)\n",
    "        "
   ]
  },
  {
   "cell_type": "markdown",
   "metadata": {},
   "source": [
    "Filtering the data to exclude insignificant processes in terms of their contribution towards the overall impact"
   ]
  },
  {
   "cell_type": "code",
   "execution_count": null,
   "metadata": {},
   "outputs": [],
   "source": [
    "percentage = 0.1\n",
    "for row in range(len(raw)):\n",
    "    if (raw['Amount'][row] / raw[raw['hierarchy_level'] == 0]['Amount'].values[0]) * 100 < percentage:\n",
    "        raw.drop([row], inplace=True)\n",
    "raw.reset_index(inplace=True)\n",
    "raw['id'] = raw.index"
   ]
  },
  {
   "cell_type": "markdown",
   "metadata": {},
   "source": [
    "Small fix to reset the index"
   ]
  },
  {
   "cell_type": "code",
   "execution_count": null,
   "metadata": {},
   "outputs": [],
   "source": [
    "converted_parents = []\n",
    "for i in range(len(raw)):\n",
    "    if raw.iloc[i].parent_id != '':\n",
    "        converted_parents.append(raw[raw['index'] == raw.iloc[i].parent_id].index[0])\n",
    "    else:\n",
    "        converted_parents.append('')\n",
    "raw['parent_id'] = converted_parents\n",
    "raw.drop(columns=['index'], inplace=True)"
   ]
  },
  {
   "cell_type": "markdown",
   "metadata": {},
   "source": [
    "Extracting the life cycle phases from the process names into a seperate attribute and distributing that life cycle phase to all children "
   ]
  },
  {
   "cell_type": "code",
   "execution_count": null,
   "metadata": {},
   "outputs": [],
   "source": [
    "phases = []\n",
    "\n",
    "#the lines of code below determine the lifecycle phases of processes, however,\n",
    "#this is data specific and therefore hard coded for the use-cases of the thesis\n",
    "\n",
    "#!!! for anyone using this script on custom data, read the comment above !!!\n",
    "if 'Apple_UseCase' in loading_url:\n",
    "    for row in range(len(raw)):\n",
    "        if raw['hierarchy_level'].iloc[row] == 0:\n",
    "            phases.append('root')\n",
    "        elif raw['hierarchy_level'].iloc[row] == 1 and 'Farm' in raw['Process'].iloc[row]:\n",
    "            phases.append('farm')\n",
    "        elif raw['hierarchy_level'].iloc[row] == 1 and 'Distribution' in raw['Process'].iloc[row]:\n",
    "            phases.append('distribution')\n",
    "        elif raw['hierarchy_level'].iloc[row] == 1 and 'Retail' in raw['Process'].iloc[row]:\n",
    "            phases.append('retail')\n",
    "        elif raw['hierarchy_level'].iloc[row] == 1 and 'Consumption' in raw['Process'].iloc[row]:\n",
    "            phases.append('consumption')\n",
    "        else:\n",
    "            phases.append('other')\n",
    "if 'Chocolate_UseCase' in loading_url:\n",
    "    for row in range(len(raw)):\n",
    "        if raw['hierarchy_level'].iloc[row] == 0:\n",
    "            phases.append('root')\n",
    "        elif raw['hierarchy_level'].iloc[row] == 1:\n",
    "            phases.append('processing')\n",
    "        elif 'at farm' in raw['Process'].iloc[row]:\n",
    "            phases.append('farm')\n",
    "        else:\n",
    "            phases.append('other')\n",
    "if 'Pizza_UseCase' in loading_url:\n",
    "    phases = ['raw materials/ingredients']*len(raw)\n",
    "    \n",
    "raw['Phase'] = phases"
   ]
  },
  {
   "cell_type": "code",
   "execution_count": null,
   "metadata": {},
   "outputs": [],
   "source": [
    "for row in range(len(raw)):\n",
    "    if raw['Phase'].iloc[row] == 'other':\n",
    "        raw['Phase'][row] = raw[raw['id'] == raw['parent_id'].iloc[row]]['Phase'].values[0]"
   ]
  },
  {
   "cell_type": "code",
   "execution_count": null,
   "metadata": {},
   "outputs": [],
   "source": [
    "raw"
   ]
  },
  {
   "cell_type": "markdown",
   "metadata": {},
   "source": [
    "Extracting the region from the process names into a seperate attribute"
   ]
  },
  {
   "cell_type": "code",
   "execution_count": null,
   "metadata": {},
   "outputs": [],
   "source": [
    "locations = pd.read_csv('locations.csv', delimiter=';') #importing the list of region-identifier combinations that was created manually beforehand\n",
    "location_strings = [' - ' + str(code) for code in locations.Code.to_list()]\n",
    "locations_dict = {}\n",
    "for i in range(len(locations)):\n",
    "    locations_dict[location_strings[i]] = locations.iloc[i].Name"
   ]
  },
  {
   "cell_type": "code",
   "execution_count": null,
   "metadata": {},
   "outputs": [],
   "source": [
    "raw_location_list = []\n",
    "for i in range(len(raw)):\n",
    "    found = False\n",
    "    for string in location_strings:\n",
    "        if raw.iloc[i].Process.endswith(string):\n",
    "            raw_location_list.append(locations_dict[string])\n",
    "            found = True\n",
    "            break\n",
    "    if not found:\n",
    "        raw_location_list.append('-')\n",
    "raw['Location'] = raw_location_list            \n",
    "    "
   ]
  },
  {
   "cell_type": "markdown",
   "metadata": {},
   "source": [
    "Cleaning the process names to delete all information that was extracted into seperate attributes and which does not add any value"
   ]
  },
  {
   "cell_type": "code",
   "execution_count": null,
   "metadata": {},
   "outputs": [],
   "source": [
    "for i in raw.index:\n",
    "    for txt in ['market for ', \n",
    "    'market group for '] + location_strings:\n",
    "        if raw['Process'][i].startswith(txt):\n",
    "            raw['Process'][i] = raw['Process'][i].replace(txt, '')\n",
    "        if raw['Process'][i].endswith(txt):\n",
    "            raw['Process'][i] = raw['Process'][i].replace(txt, '')"
   ]
  },
  {
   "cell_type": "markdown",
   "metadata": {},
   "source": [
    "Adding a second name column that serves as a shorthand notation for the full name"
   ]
  },
  {
   "cell_type": "code",
   "execution_count": null,
   "metadata": {},
   "outputs": [],
   "source": [
    "process_shorthand_list = []\n",
    "for i in range(len(raw)):\n",
    "    process_shorthand_list.append(raw.iloc[i].Process.partition(',')[0]) #selecting part of the name up to first comma character\n",
    "raw['Process_shorthand'] = process_shorthand_list"
   ]
  },
  {
   "cell_type": "code",
   "execution_count": null,
   "metadata": {},
   "outputs": [],
   "source": [
    "# raw.to_csv(loading_url.replace('rawExcel', 'CSVs').replace('xlsx', 'csv'), index=False) #uncomment to export pre-processed dataset to csv"
   ]
  },
  {
   "cell_type": "code",
   "execution_count": null,
   "metadata": {},
   "outputs": [],
   "source": []
  }
 ],
 "metadata": {
  "interpreter": {
   "hash": "44978c302224b5d53167f345a5599b08b74d2b7aa7822399469ecef21df87ad3"
  },
  "kernelspec": {
   "display_name": "Python 3.9.7 64-bit (system)",
   "language": "python",
   "name": "python3"
  },
  "language_info": {
   "codemirror_mode": {
    "name": "ipython",
    "version": 3
   },
   "file_extension": ".py",
   "mimetype": "text/x-python",
   "name": "python",
   "nbconvert_exporter": "python",
   "pygments_lexer": "ipython3",
   "version": "3.9.7"
  },
  "orig_nbformat": 4
 },
 "nbformat": 4,
 "nbformat_minor": 2
}
